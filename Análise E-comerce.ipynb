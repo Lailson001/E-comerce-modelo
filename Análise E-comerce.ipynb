{
  "nbformat": 4,
  "nbformat_minor": 0,
  "metadata": {
    "colab": {
      "provenance": [],
      "mount_file_id": "1hQEv5d1r_YmfYNH0-vDh5cxTrTJOCMzf",
      "authorship_tag": "ABX9TyNBhOTRmGQxiZAwFvh2/ioY",
      "include_colab_link": true
    },
    "kernelspec": {
      "name": "python3",
      "display_name": "Python 3"
    },
    "language_info": {
      "name": "python"
    }
  },
  "cells": [
    {
      "cell_type": "markdown",
      "metadata": {
        "id": "view-in-github",
        "colab_type": "text"
      },
      "source": [
        "<a href=\"https://colab.research.google.com/github/Lailson001/E-comerce-modelo/blob/main/An%C3%A1lise%20E-comerce.ipynb\" target=\"_parent\"><img src=\"https://colab.research.google.com/assets/colab-badge.svg\" alt=\"Open In Colab\"/></a>"
      ]
    },
    {
      "cell_type": "code",
      "source": [
        "import pandas as pd\n",
        "\n",
        "import numpy as np\n",
        "import matplotlib\n",
        "\n",
        "\n"
      ],
      "metadata": {
        "id": "MXssg1o2SfCM"
      },
      "execution_count": null,
      "outputs": []
    },
    {
      "cell_type": "markdown",
      "source": [
        "# Nova seção"
      ],
      "metadata": {
        "id": "LXRv4NJ1hurB"
      }
    },
    {
      "cell_type": "markdown",
      "source": [
        "No primeiro passo da análise, realizamos uma inspeção geral dos dados utilizando df.info(). Identificamos que o DataFrame contém 12.575 registros e 11 colunas, com diferentes tipos de dados e valores ausentes em algumas colunas, como Item e Discount Applied"
      ],
      "metadata": {
        "id": "kwqN2SAGaiIz"
      }
    },
    {
      "cell_type": "code",
      "source": [
        "df= pd.read_csv(\"/retail_store_sales.csv\")\n",
        "df.head()\n",
        "print(df.info())\n"
      ],
      "metadata": {
        "colab": {
          "base_uri": "https://localhost:8080/"
        },
        "id": "pWW52ffmXbSV",
        "outputId": "0f796018-07a4-401b-bd7b-8054c591ee32"
      },
      "execution_count": 27,
      "outputs": [
        {
          "output_type": "stream",
          "name": "stdout",
          "text": [
            "<class 'pandas.core.frame.DataFrame'>\n",
            "RangeIndex: 12575 entries, 0 to 12574\n",
            "Data columns (total 11 columns):\n",
            " #   Column            Non-Null Count  Dtype  \n",
            "---  ------            --------------  -----  \n",
            " 0   Transaction ID    12575 non-null  object \n",
            " 1   Customer ID       12575 non-null  object \n",
            " 2   Category          12575 non-null  object \n",
            " 3   Item              11362 non-null  object \n",
            " 4   Price Per Unit    11966 non-null  float64\n",
            " 5   Quantity          11971 non-null  float64\n",
            " 6   Total Spent       11971 non-null  float64\n",
            " 7   Payment Method    12575 non-null  object \n",
            " 8   Location          12575 non-null  object \n",
            " 9   Transaction Date  12575 non-null  object \n",
            " 10  Discount Applied  8376 non-null   object \n",
            "dtypes: float64(3), object(8)\n",
            "memory usage: 1.1+ MB\n",
            "None\n"
          ]
        }
      ]
    },
    {
      "cell_type": "markdown",
      "source": [
        "Ao indentificar os valores ausentes, usamos cálculos para preenchê-los com dados coerentes. Por exemplo, completamos Total Spent multiplicando Quantity por Price Per Unit. Isso ajuda a manter a consistência das informações."
      ],
      "metadata": {
        "id": "a9ZgMP55lKUi"
      }
    },
    {
      "cell_type": "code",
      "source": [
        "df['Total Spent'] = df['Total Spent'].fillna(df['Quantity']* df['Price Per Unit'])\n",
        "df['Price Per Unit'] = df[ 'Price Per Unit'].fillna(df['Total Spent'] / df['Quantity'])\n",
        "print(df.isnull().sum())"
      ],
      "metadata": {
        "colab": {
          "base_uri": "https://localhost:8080/"
        },
        "id": "yZDDLsOnhepF",
        "outputId": "0b955b82-eea3-45c7-b492-8a8303f96d63"
      },
      "execution_count": 28,
      "outputs": [
        {
          "output_type": "stream",
          "name": "stdout",
          "text": [
            "Transaction ID         0\n",
            "Customer ID            0\n",
            "Category               0\n",
            "Item                1213\n",
            "Price Per Unit         0\n",
            "Quantity             604\n",
            "Total Spent          604\n",
            "Payment Method         0\n",
            "Location               0\n",
            "Transaction Date       0\n",
            "Discount Applied    4199\n",
            "dtype: int64\n"
          ]
        }
      ]
    },
    {
      "cell_type": "code",
      "source": [
        "# Verificando inconsistências com tolerância de erro\n",
        "df['Calculated Total'] = df['Quantity'] * df['Price Per Unit']\n",
        "\n",
        "inconsistentes = df[~np.isclose(df['Total Spent'], df['Calculated Total'], atol=0.01)]\n",
        "\n",
        "print(f\"Existem {len(inconsistentes)} transações inconsistentes.\")\n"
      ],
      "metadata": {
        "colab": {
          "base_uri": "https://localhost:8080/"
        },
        "id": "OStu4VeVna6D",
        "outputId": "8e3920f1-84f4-4712-b581-94c84d18cc82"
      },
      "execution_count": 38,
      "outputs": [
        {
          "output_type": "stream",
          "name": "stdout",
          "text": [
            "Existem 604 transações inconsistentes.\n"
          ]
        }
      ]
    },
    {
      "cell_type": "markdown",
      "source": [],
      "metadata": {
        "id": "EfSZHXvqlI5z"
      }
    }
  ]
}