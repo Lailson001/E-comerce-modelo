{
  "nbformat": 4,
  "nbformat_minor": 0,
  "metadata": {
    "colab": {
      "provenance": [],
      "mount_file_id": "1hQEv5d1r_YmfYNH0-vDh5cxTrTJOCMzf",
      "authorship_tag": "ABX9TyNenXDIauI489a1NWnRUn9Q",
      "include_colab_link": true
    },
    "kernelspec": {
      "name": "python3",
      "display_name": "Python 3"
    },
    "language_info": {
      "name": "python"
    }
  },
  "cells": [
    {
      "cell_type": "markdown",
      "metadata": {
        "id": "view-in-github",
        "colab_type": "text"
      },
      "source": [
        "<a href=\"https://colab.research.google.com/github/Lailson001/E-comerce-modelo/blob/main/An%C3%A1lise%20E-comerce.ipynb\" target=\"_parent\"><img src=\"https://colab.research.google.com/assets/colab-badge.svg\" alt=\"Open In Colab\"/></a>"
      ]
    },
    {
      "cell_type": "code",
      "source": [
        "import pandas as pd\n",
        "\n",
        "import numpy as np\n",
        "import matplotlib\n",
        "\n",
        "\n"
      ],
      "metadata": {
        "id": "MXssg1o2SfCM"
      },
      "execution_count": null,
      "outputs": []
    },
    {
      "cell_type": "markdown",
      "source": [
        "# Nova seção"
      ],
      "metadata": {
        "id": "LXRv4NJ1hurB"
      }
    },
    {
      "cell_type": "markdown",
      "source": [
        "🚀 Limpando e Validando Dados com Pandas!"
      ],
      "metadata": {
        "id": "kwqN2SAGaiIz"
      }
    },
    {
      "cell_type": "code",
      "source": [
        "# Lendo o arquivo CSV e carregando os dados em um DataFrame\n",
        "df = pd.read_csv(\"/content/retail_store_sales.csv\")\n",
        "\n",
        "# Exibindo as primeiras linhas do DataFrame para verificar a estrutura\n",
        "df.head()\n",
        "\n",
        "# Exibindo informações sobre o DataFrame, como tipos\n",
        "print(df.info())\n"
      ],
      "metadata": {
        "colab": {
          "base_uri": "https://localhost:8080/"
        },
        "id": "pWW52ffmXbSV",
        "outputId": "aaacf3a4-1fcc-477f-83f6-31adb49be767"
      },
      "execution_count": 31,
      "outputs": [
        {
          "output_type": "stream",
          "name": "stdout",
          "text": [
            "<class 'pandas.core.frame.DataFrame'>\n",
            "RangeIndex: 12575 entries, 0 to 12574\n",
            "Data columns (total 13 columns):\n",
            " #   Column              Non-Null Count  Dtype  \n",
            "---  ------              --------------  -----  \n",
            " 0   Transaction ID      12575 non-null  object \n",
            " 1   Customer ID         12575 non-null  object \n",
            " 2   Category            12575 non-null  object \n",
            " 3   Item                12575 non-null  object \n",
            " 4   Price Per Unit      12575 non-null  float64\n",
            " 5   Quantity            12575 non-null  float64\n",
            " 6   Total Spent         12575 non-null  float64\n",
            " 7   Payment Method      12575 non-null  object \n",
            " 8   Location            12575 non-null  object \n",
            " 9   Transaction Date    12575 non-null  object \n",
            " 10  Discount Applied    12575 non-null  object \n",
            " 11  Calculated Total    11971 non-null  float64\n",
            " 12  Inconsistence Type  12575 non-null  object \n",
            "dtypes: float64(4), object(9)\n",
            "memory usage: 1.2+ MB\n",
            "None\n"
          ]
        }
      ]
    },
    {
      "cell_type": "markdown",
      "source": [
        "Ao indentificar os valores ausentes, usamos cálculos para preenchê-los com dados coerentes. Por exemplo, completamos Total Spent multiplicando Quantity por Price Per Unit. Isso ajuda a manter a consistência das informações."
      ],
      "metadata": {
        "id": "a9ZgMP55lKUi"
      }
    },
    {
      "cell_type": "code",
      "source": [
        "# Preenchendo valores ausentes na coluna 'Total Spent' multiplicando 'Quantity' por 'Price Per Unit'\n",
        "df['Total Spent'] = df['Total Spent'].fillna(df['Quantity'] * df['Price Per Unit'])\n",
        "\n",
        "# Preenchendo valores ausentes na coluna 'Price Per Unit' dividindo 'Total Spent' por 'Quantity'\n",
        "df['Price Per Unit'] = df['Price Per Unit'].fillna(df['Total Spent'] / df['Quantity'])\n",
        "\n",
        "# Exibindo a contagem de valores nulos por coluna após o preenchimento\n",
        "print(df.isnull().sum())\n",
        "\n",
        "# Criando uma nova coluna 'Calculated Total' para validar os cálculos\n",
        "df['Calculated Total'] = df['Quantity'] * df['Price Per Unit']"
      ],
      "metadata": {
        "colab": {
          "base_uri": "https://localhost:8080/"
        },
        "id": "yZDDLsOnhepF",
        "outputId": "ece1e440-aafb-4510-a159-f460bbd48ec2"
      },
      "execution_count": 32,
      "outputs": [
        {
          "output_type": "stream",
          "name": "stdout",
          "text": [
            "Transaction ID          0\n",
            "Customer ID             0\n",
            "Category                0\n",
            "Item                    0\n",
            "Price Per Unit          0\n",
            "Quantity                0\n",
            "Total Spent             0\n",
            "Payment Method          0\n",
            "Location                0\n",
            "Transaction Date        0\n",
            "Discount Applied        0\n",
            "Calculated Total      604\n",
            "Inconsistence Type      0\n",
            "dtype: int64\n"
          ]
        }
      ]
    },
    {
      "cell_type": "code",
      "source": [
        "# Identificando transações inconsistentes (onde Total Spent não bate com Calculated Total dentro da margem de erro)\n",
        "inconsistentes = df[~np.isclose(df['Total Spent'], df['Calculated Total'], atol=0.01)]\n",
        "\n",
        "# Exibindo a quantidade de transações inconsistentes\n",
        "print(f\"Existem {len(inconsistentes)} transações inconsistentes.\")\n",
        "\n",
        "# Criando uma nova coluna para armazenar o tipo de inconsistência\n",
        "df['Inconsistence Type'] = 'Consistent'\n"
      ],
      "metadata": {
        "colab": {
          "base_uri": "https://localhost:8080/"
        },
        "id": "OStu4VeVna6D",
        "outputId": "769e8835-ca88-47b1-b5be-86ca943eae60"
      },
      "execution_count": 33,
      "outputs": [
        {
          "output_type": "stream",
          "name": "stdout",
          "text": [
            "Existem 0 transações inconsistentes.\n"
          ]
        }
      ]
    },
    {
      "cell_type": "code",
      "source": [
        "# Identificando os diferentes tipos de inconsistência\n",
        "\n",
        "df.loc[df['Total Spent'].isna(), 'Inconsistence Type'] = 'missing Total Spent'  # Se 'Total Spent' estiver ausente\n",
        "df.loc[df['Price Per Unit'].isna(), 'Inconsistence Type'] = 'missing Price Per Unit'  # Se 'Price Per Unit' estiver ausente\n",
        "df.loc[df['Quantity'].isna(), 'Inconsistence Type'] = 'missing Quantity'  # Se 'Quantity' estiver ausente\n",
        "\n",
        "# Identificando casos onde o cálculo não bate dentro da margem de erro\n",
        "df.loc[~np.isclose(df['Total Spent'], df['Calculated Total'], atol=0.01),\n",
        "       'Inconsistence Type'] = 'Incorrect Calculation'\n",
        "\n",
        "# Filtrando apenas os registros inconsistentes para exibição\n",
        "inconsistentes = df[df['Inconsistence Type'] != 'Consistent']\n",
        "print(inconsistentes)\n"
      ],
      "metadata": {
        "id": "r64PWJbakALh",
        "outputId": "21ca491c-019b-4caa-8518-dccb7e82e919",
        "colab": {
          "base_uri": "https://localhost:8080/"
        }
      },
      "execution_count": 34,
      "outputs": [
        {
          "output_type": "stream",
          "name": "stdout",
          "text": [
            "Empty DataFrame\n",
            "Columns: [Transaction ID, Customer ID, Category, Item, Price Per Unit, Quantity, Total Spent, Payment Method, Location, Transaction Date, Discount Applied, Calculated Total, Inconsistence Type]\n",
            "Index: []\n"
          ]
        }
      ]
    },
    {
      "cell_type": "markdown",
      "source": [],
      "metadata": {
        "id": "EfSZHXvqlI5z"
      }
    },
    {
      "cell_type": "code",
      "source": [
        "# Substituindo valores nulos por 0 em colunas numéricas para evitar problemas de cálculo\n",
        "df.loc[df['Total Spent'].isna(), 'Total Spent'] = 0\n",
        "df.loc[df['Price Per Unit'].isna(), 'Price Per Unit'] = 0\n",
        "df.loc[df['Quantity'].isna(), 'Quantity'] = 0\n",
        "\n",
        "# Substituindo valores nulos por 0 nas colunas categóricas 'Item' e 'Discount Applied'\n",
        "df[['Item', 'Discount Applied']] = df[['Item', 'Discount Applied']].fillna(0)\n",
        "\n",
        "# Exibindo novamente a contagem de valores nulos para verificar se foram tratados\n",
        "print(df[['Price Per Unit', 'Quantity', 'Total Spent', 'Item', 'Discount Applied']].isnull().sum())"
      ],
      "metadata": {
        "id": "_0wIbtTakJ_w",
        "outputId": "a15868b9-8c3f-4e22-db47-4660fdecdd07",
        "colab": {
          "base_uri": "https://localhost:8080/"
        }
      },
      "execution_count": 35,
      "outputs": [
        {
          "output_type": "stream",
          "name": "stdout",
          "text": [
            "Price Per Unit      0\n",
            "Quantity            0\n",
            "Total Spent         0\n",
            "Item                0\n",
            "Discount Applied    0\n",
            "dtype: int64\n"
          ]
        }
      ]
    }
  ]
}